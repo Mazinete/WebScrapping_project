{
 "cells": [
  {
   "cell_type": "code",
   "execution_count": 5,
   "metadata": {},
   "outputs": [
    {
     "name": "stdout",
     "output_type": "stream",
     "text": [
      "Modèle entraîné et sauvegardé avec succès !\n"
     ]
    }
   ],
   "source": [
    "from sklearn.feature_extraction.text import TfidfVectorizer\n",
    "from sklearn.linear_model import LogisticRegression\n",
    "import joblib\n",
    "import pandas as pd\n",
    "from textblob import TextBlob\n",
    "\n",
    "# Charger le fichier JSON en un DataFrame Pandas\n",
    "df = pd.read_json(\"data.json\")\n",
    "\n",
    "# Initialiser une liste pour stocker les commentaires et les étiquettes\n",
    "comments = []\n",
    "labels = []\n",
    "\n",
    "# Parcourir chaque ligne du DataFrame pour extraire les commentaires et les étiquettes\n",
    "for index, row in df.iterrows():\n",
    "    for review in row[\"reviews\"]:\n",
    "        comment = review[\"comment\"]\n",
    "        # Utiliser TextBlob pour annoter les commentaires en leur attribuant une étiquette basée sur leur polarité\n",
    "        polarity = TextBlob(comment).sentiment.polarity\n",
    "        label = 1 if polarity > 0 else 0\n",
    "        comments.append(comment)\n",
    "        labels.append(label)\n",
    "\n",
    "# Vectoriser les commentaires\n",
    "vectorizer = TfidfVectorizer(stop_words='english')\n",
    "X = vectorizer.fit_transform(comments)\n",
    "y = labels\n",
    "\n",
    "# Entraîner un modèle de régression logistique\n",
    "model = LogisticRegression(random_state=42)\n",
    "model.fit(X, y)\n",
    "\n",
    "# Sauvegarder le modèle entraîné\n",
    "joblib.dump(model, 'sentiment_model.pkl')\n",
    "\n",
    "print(\"Modèle entraîné et sauvegardé avec succès !\")\n"
   ]
  }
 ],
 "metadata": {
  "kernelspec": {
   "display_name": "Python 3",
   "language": "python",
   "name": "python3"
  },
  "language_info": {
   "codemirror_mode": {
    "name": "ipython",
    "version": 3
   },
   "file_extension": ".py",
   "mimetype": "text/x-python",
   "name": "python",
   "nbconvert_exporter": "python",
   "pygments_lexer": "ipython3",
   "version": "3.11.6"
  }
 },
 "nbformat": 4,
 "nbformat_minor": 2
}
